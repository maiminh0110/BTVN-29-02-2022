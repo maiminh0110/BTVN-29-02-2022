{
 "cells": [
  {
   "cell_type": "code",
   "execution_count": 2,
   "id": "489faed7",
   "metadata": {},
   "outputs": [
    {
     "name": "stdout",
     "output_type": "stream",
     "text": [
      "nhập thu nhập tính thuế hàng tháng: 9000000\n",
      "\n",
      "thuế chưa giảm trừ là: 3150000 đồng\n",
      "\n",
      "tong thu nhap: 20000000\n",
      "số ng phu thuộc:  1\n",
      "\n",
      "thuế sau khi đã giảm trừ là: 1610000 đồng\n"
     ]
    }
   ],
   "source": [
    "# Bài 1: Theo luật từ năm 2020 thuế suất thu nhập cá nhân được tính như sau:\n",
    "# Nếu phần thu nhập tính thuế/tháng đến 5 triệu thì thuế suất là 5%. \n",
    "# Trên 5 triệu đến 10 triệu thì thuế suất là 10%. Trên 10 triệu đến 18 triệu là 15%. \n",
    "# Trên 18 triệu đến 32 triệu là 20%. Trên 32 triệu đến 52 triệu là 25%. Trên 52 triệu đến 80 triệu là 30%. \n",
    "# Trên 80 triệu là 35%. Tính:\n",
    "# 1.\tThuế TNCN phải đóng khi biết thu nhập tính thuế của người đó\n",
    "# 2.\tThuế TNCN phải đóng khi biết tổng thu nhập và số người phụ thuộc. \n",
    "# Biết rằng, mức giảm trừ gia cảnh được áp dụng cho bản thân người đóng thuế là 11 triệu/tháng.\n",
    "# Mức áp dụng đối với người phụ thuộc là 4,4 triệu/tháng. \n",
    "# Thu nhập tính thuế thu nhập cá nhân là thu nhập còn lại sau khi tổng thu nhập đã trừ đi các tổng giảm trừ gia cảnh \n",
    "\n",
    "a = int(input('nhập thu nhập tính thuế hàng tháng: '))\n",
    " \n",
    "b = 0.05 if 0<a<=5 else 0.1 if 5<a<=10 else 0.15 if 10<a<=18 else 0.2 if 18<a<=32 else 0.25 if 32<a<=52 else 0.3 if 52<a<=80 else 0.35\n",
    "\n",
    "thue = int(a*b) \n",
    "\n",
    "print ('\\nthuế chưa giảm trừ là: {} đồng'.format(thue))\n",
    "\n",
    "a1 = int(input('\\ntong thu nhap: '))\n",
    "b1 = int(input('số ng phu thuộc:  '))\n",
    "a = a1 - 4400000*b1 - 11000000\n",
    "b = 0.05 if 0<a<=5 else 0.1 if 5<a<=10 else 0.15 if 10<a<=18 else 0.2 if 18<a<=32 else 0.25 if 32<a<=52 else 0.3 if 52<a<=80 else 0.35\n",
    "\n",
    "thue1 = int(a*b)\n",
    "print('\\nthuế sau khi đã giảm trừ là: {} đồng'.format(thue1))\n",
    "\n",
    "\n"
   ]
  },
  {
   "cell_type": "code",
   "execution_count": 5,
   "id": "f46e9962",
   "metadata": {},
   "outputs": [
    {
     "name": "stdout",
     "output_type": "stream",
     "text": [
      "nhập hoành độ P: 0.998222267\n",
      "nhập tung độ P: 0.90034\n",
      "điểm P nằm trong vùng giới hạn\n"
     ]
    }
   ],
   "source": [
    "#nhập điểm P(x,y) hỏi P có nằm trong vùng D hay không\n",
    "\n",
    "#phương trình đường tròn: x^2 + y^2 = 4\n",
    "#phương trình đường thẳng: x + 3y = 6 \n",
    "#Phương trình đường thẳng: x - 3y = 6\n",
    "\n",
    "\n",
    "xP = float(input('nhập hoành độ P: '))\n",
    "yP = float(input('nhập tung độ P: '))\n",
    "\n",
    "text = \"điểm P nằm trong vùng giới hạn\"\n",
    "text2 = \"điểm P không nắm trong vùng\"\n",
    "#if xP >=0: \n",
    "print(text) if (xP>=0 and(xP + 3*yP <= 6) and (xP - 3*yP <=6)) or (xP<0 and (xP**2 + yP**2 <= 4)) else print (text2)\n",
    "#else: \n",
    "    #print(text) if (xP**2 + yP**2 <= 4) else print (text2)\n"
   ]
  },
  {
   "cell_type": "code",
   "execution_count": null,
   "id": "63fdd3c0",
   "metadata": {},
   "outputs": [],
   "source": []
  }
 ],
 "metadata": {
  "kernelspec": {
   "display_name": "Python 3 (ipykernel)",
   "language": "python",
   "name": "python3"
  },
  "language_info": {
   "codemirror_mode": {
    "name": "ipython",
    "version": 3
   },
   "file_extension": ".py",
   "mimetype": "text/x-python",
   "name": "python",
   "nbconvert_exporter": "python",
   "pygments_lexer": "ipython3",
   "version": "3.9.12"
  }
 },
 "nbformat": 4,
 "nbformat_minor": 5
}
